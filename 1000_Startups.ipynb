{
  "cells": [
    {
      "cell_type": "markdown",
      "metadata": {
        "id": "view-in-github",
        "colab_type": "text"
      },
      "source": [
        "<a href=\"https://colab.research.google.com/github/aksaraf/PortfolioProjects/blob/main/1000_Startups.ipynb\" target=\"_parent\"><img src=\"https://colab.research.google.com/assets/colab-badge.svg\" alt=\"Open In Colab\"/></a>"
      ]
    },
    {
      "cell_type": "markdown",
      "metadata": {
        "id": "2xmjsBk95wV4"
      },
      "source": [
        "This project is taken from [Udemy Tableau 2022 Advanced: Master Tableau in Data Science](https://www.udemy.com/course/tableau10-advanced/)\n",
        "\n",
        "My goal here is to recreate the analysis done in tableau using python.\n",
        "\n",
        "Porject info can be found [here](https://www.artofvisualization.com/pages/tableau-advanced)"
      ]
    },
    {
      "cell_type": "markdown",
      "metadata": {
        "id": "AQx7wSuR70Dh"
      },
      "source": [
        "**1. Importing the python libraries**"
      ]
    },
    {
      "cell_type": "code",
      "execution_count": 1,
      "metadata": {
        "id": "NqURpWS95Kid"
      },
      "outputs": [],
      "source": [
        "import pandas as pd\n",
        "import numpy as np\n",
        "import matplotlib.pyplot as plt\n",
        "import seaborn as sb"
      ]
    },
    {
      "cell_type": "markdown",
      "metadata": {
        "id": "pIz6mV_6987m"
      },
      "source": [
        "**2. Uploading the excel file**"
      ]
    },
    {
      "cell_type": "markdown",
      "metadata": {
        "id": "jLX8aFfl_vot"
      },
      "source": [
        "We have two sheets (Overview & Financials) in the excel file so let us upload it separately and then combine it together for anaylsis"
      ]
    },
    {
      "cell_type": "code",
      "execution_count": 2,
      "metadata": {
        "colab": {
          "base_uri": "https://localhost:8080/",
          "height": 206
        },
        "id": "-5WReZyw8Fan",
        "outputId": "778cc7bb-6606-48bf-d1a7-35fa44a5dcd1"
      },
      "outputs": [
        {
          "output_type": "execute_result",
          "data": {
            "text/plain": [
              "   ID       Name     Industry  \\\n",
              "0   1   Over-Hex     Software   \n",
              "1   2  Unimattax  IT Services   \n",
              "2   3     Lexila  Real Estate   \n",
              "3   4   Greenfax       Retail   \n",
              "4   5     Saoace       Energy   \n",
              "\n",
              "                                         Description  Year Founded  Employees  \\\n",
              "0  Provides a Web-based CRM tool that allows hosp...          2006         25   \n",
              "1  Helps law firms use Thomson Reuters Elite prac...          2009         36   \n",
              "2  Offers investment, construction, residential, ...          2013         38   \n",
              "3  A Verizon Wireless premium retailer that offer...          2012        320   \n",
              "4  An energy efficiency consulting firm that work...          2009         24   \n",
              "\n",
              "  State            City    Metro Area  \n",
              "0    TN        Franklin     Nashville  \n",
              "1    PA  Newtown Square  Philadelphia  \n",
              "2    IL     Tinley Park       Chicago  \n",
              "3    SC      Greenville  Newberry, SC  \n",
              "4    WI    New Holstein  Appleton, WI  "
            ],
            "text/html": [
              "\n",
              "  <div id=\"df-c8103e20-f72a-4ef6-853f-40cf6bfb83af\">\n",
              "    <div class=\"colab-df-container\">\n",
              "      <div>\n",
              "<style scoped>\n",
              "    .dataframe tbody tr th:only-of-type {\n",
              "        vertical-align: middle;\n",
              "    }\n",
              "\n",
              "    .dataframe tbody tr th {\n",
              "        vertical-align: top;\n",
              "    }\n",
              "\n",
              "    .dataframe thead th {\n",
              "        text-align: right;\n",
              "    }\n",
              "</style>\n",
              "<table border=\"1\" class=\"dataframe\">\n",
              "  <thead>\n",
              "    <tr style=\"text-align: right;\">\n",
              "      <th></th>\n",
              "      <th>ID</th>\n",
              "      <th>Name</th>\n",
              "      <th>Industry</th>\n",
              "      <th>Description</th>\n",
              "      <th>Year Founded</th>\n",
              "      <th>Employees</th>\n",
              "      <th>State</th>\n",
              "      <th>City</th>\n",
              "      <th>Metro Area</th>\n",
              "    </tr>\n",
              "  </thead>\n",
              "  <tbody>\n",
              "    <tr>\n",
              "      <th>0</th>\n",
              "      <td>1</td>\n",
              "      <td>Over-Hex</td>\n",
              "      <td>Software</td>\n",
              "      <td>Provides a Web-based CRM tool that allows hosp...</td>\n",
              "      <td>2006</td>\n",
              "      <td>25</td>\n",
              "      <td>TN</td>\n",
              "      <td>Franklin</td>\n",
              "      <td>Nashville</td>\n",
              "    </tr>\n",
              "    <tr>\n",
              "      <th>1</th>\n",
              "      <td>2</td>\n",
              "      <td>Unimattax</td>\n",
              "      <td>IT Services</td>\n",
              "      <td>Helps law firms use Thomson Reuters Elite prac...</td>\n",
              "      <td>2009</td>\n",
              "      <td>36</td>\n",
              "      <td>PA</td>\n",
              "      <td>Newtown Square</td>\n",
              "      <td>Philadelphia</td>\n",
              "    </tr>\n",
              "    <tr>\n",
              "      <th>2</th>\n",
              "      <td>3</td>\n",
              "      <td>Lexila</td>\n",
              "      <td>Real Estate</td>\n",
              "      <td>Offers investment, construction, residential, ...</td>\n",
              "      <td>2013</td>\n",
              "      <td>38</td>\n",
              "      <td>IL</td>\n",
              "      <td>Tinley Park</td>\n",
              "      <td>Chicago</td>\n",
              "    </tr>\n",
              "    <tr>\n",
              "      <th>3</th>\n",
              "      <td>4</td>\n",
              "      <td>Greenfax</td>\n",
              "      <td>Retail</td>\n",
              "      <td>A Verizon Wireless premium retailer that offer...</td>\n",
              "      <td>2012</td>\n",
              "      <td>320</td>\n",
              "      <td>SC</td>\n",
              "      <td>Greenville</td>\n",
              "      <td>Newberry, SC</td>\n",
              "    </tr>\n",
              "    <tr>\n",
              "      <th>4</th>\n",
              "      <td>5</td>\n",
              "      <td>Saoace</td>\n",
              "      <td>Energy</td>\n",
              "      <td>An energy efficiency consulting firm that work...</td>\n",
              "      <td>2009</td>\n",
              "      <td>24</td>\n",
              "      <td>WI</td>\n",
              "      <td>New Holstein</td>\n",
              "      <td>Appleton, WI</td>\n",
              "    </tr>\n",
              "  </tbody>\n",
              "</table>\n",
              "</div>\n",
              "      <button class=\"colab-df-convert\" onclick=\"convertToInteractive('df-c8103e20-f72a-4ef6-853f-40cf6bfb83af')\"\n",
              "              title=\"Convert this dataframe to an interactive table.\"\n",
              "              style=\"display:none;\">\n",
              "        \n",
              "  <svg xmlns=\"http://www.w3.org/2000/svg\" height=\"24px\"viewBox=\"0 0 24 24\"\n",
              "       width=\"24px\">\n",
              "    <path d=\"M0 0h24v24H0V0z\" fill=\"none\"/>\n",
              "    <path d=\"M18.56 5.44l.94 2.06.94-2.06 2.06-.94-2.06-.94-.94-2.06-.94 2.06-2.06.94zm-11 1L8.5 8.5l.94-2.06 2.06-.94-2.06-.94L8.5 2.5l-.94 2.06-2.06.94zm10 10l.94 2.06.94-2.06 2.06-.94-2.06-.94-.94-2.06-.94 2.06-2.06.94z\"/><path d=\"M17.41 7.96l-1.37-1.37c-.4-.4-.92-.59-1.43-.59-.52 0-1.04.2-1.43.59L10.3 9.45l-7.72 7.72c-.78.78-.78 2.05 0 2.83L4 21.41c.39.39.9.59 1.41.59.51 0 1.02-.2 1.41-.59l7.78-7.78 2.81-2.81c.8-.78.8-2.07 0-2.86zM5.41 20L4 18.59l7.72-7.72 1.47 1.35L5.41 20z\"/>\n",
              "  </svg>\n",
              "      </button>\n",
              "      \n",
              "  <style>\n",
              "    .colab-df-container {\n",
              "      display:flex;\n",
              "      flex-wrap:wrap;\n",
              "      gap: 12px;\n",
              "    }\n",
              "\n",
              "    .colab-df-convert {\n",
              "      background-color: #E8F0FE;\n",
              "      border: none;\n",
              "      border-radius: 50%;\n",
              "      cursor: pointer;\n",
              "      display: none;\n",
              "      fill: #1967D2;\n",
              "      height: 32px;\n",
              "      padding: 0 0 0 0;\n",
              "      width: 32px;\n",
              "    }\n",
              "\n",
              "    .colab-df-convert:hover {\n",
              "      background-color: #E2EBFA;\n",
              "      box-shadow: 0px 1px 2px rgba(60, 64, 67, 0.3), 0px 1px 3px 1px rgba(60, 64, 67, 0.15);\n",
              "      fill: #174EA6;\n",
              "    }\n",
              "\n",
              "    [theme=dark] .colab-df-convert {\n",
              "      background-color: #3B4455;\n",
              "      fill: #D2E3FC;\n",
              "    }\n",
              "\n",
              "    [theme=dark] .colab-df-convert:hover {\n",
              "      background-color: #434B5C;\n",
              "      box-shadow: 0px 1px 3px 1px rgba(0, 0, 0, 0.15);\n",
              "      filter: drop-shadow(0px 1px 2px rgba(0, 0, 0, 0.3));\n",
              "      fill: #FFFFFF;\n",
              "    }\n",
              "  </style>\n",
              "\n",
              "      <script>\n",
              "        const buttonEl =\n",
              "          document.querySelector('#df-c8103e20-f72a-4ef6-853f-40cf6bfb83af button.colab-df-convert');\n",
              "        buttonEl.style.display =\n",
              "          google.colab.kernel.accessAllowed ? 'block' : 'none';\n",
              "\n",
              "        async function convertToInteractive(key) {\n",
              "          const element = document.querySelector('#df-c8103e20-f72a-4ef6-853f-40cf6bfb83af');\n",
              "          const dataTable =\n",
              "            await google.colab.kernel.invokeFunction('convertToInteractive',\n",
              "                                                     [key], {});\n",
              "          if (!dataTable) return;\n",
              "\n",
              "          const docLinkHtml = 'Like what you see? Visit the ' +\n",
              "            '<a target=\"_blank\" href=https://colab.research.google.com/notebooks/data_table.ipynb>data table notebook</a>'\n",
              "            + ' to learn more about interactive tables.';\n",
              "          element.innerHTML = '';\n",
              "          dataTable['output_type'] = 'display_data';\n",
              "          await google.colab.output.renderOutput(dataTable, element);\n",
              "          const docLink = document.createElement('div');\n",
              "          docLink.innerHTML = docLinkHtml;\n",
              "          element.appendChild(docLink);\n",
              "        }\n",
              "      </script>\n",
              "    </div>\n",
              "  </div>\n",
              "  "
            ]
          },
          "metadata": {},
          "execution_count": 2
        }
      ],
      "source": [
        "overview_data = pd.read_excel(\"P11-1000-Startups.xlsx\", sheet_name = 'Overview')\n",
        "overview_data.head()"
      ]
    },
    {
      "cell_type": "code",
      "source": [
        "#let us check the number of rows and columns\n",
        "overview_data.shape"
      ],
      "metadata": {
        "colab": {
          "base_uri": "https://localhost:8080/"
        },
        "id": "-PGnP2KYBSdp",
        "outputId": "169d17c8-6b66-4799-8bf1-0bd1d8f58541"
      },
      "execution_count": 3,
      "outputs": [
        {
          "output_type": "execute_result",
          "data": {
            "text/plain": [
              "(1000, 9)"
            ]
          },
          "metadata": {},
          "execution_count": 3
        }
      ]
    },
    {
      "cell_type": "code",
      "execution_count": 4,
      "metadata": {
        "colab": {
          "base_uri": "https://localhost:8080/",
          "height": 268
        },
        "id": "wvcsTnzZ_Bvm",
        "outputId": "77336178-5ee0-4df2-85bd-bccaf9f3e7a7"
      },
      "outputs": [
        {
          "output_type": "execute_result",
          "data": {
            "text/plain": [
              "   ID       Name  2015 Revenue  2015 Expenses  2015 Profit  2015 Growth %  \\\n",
              "0   1   Over-Hex   10684526.90     1130700.06   9553826.84           3.34   \n",
              "1   2  Unimattax    9016542.89      804035.40   8212507.49           0.65   \n",
              "2   3     Lexila   12456641.64     2149297.00  10307344.65           5.20   \n",
              "3   4   Greenfax    7746272.07     1044375.49   6701896.58           3.17   \n",
              "4   5     Saoace   10725585.46     2694644.42   8030941.04           3.12   \n",
              "\n",
              "   2014 Revenue  2014 Expenses  2014 Profit  2014 Growth %  2013 Revenue  \\\n",
              "0       2463739      194747.86   2268991.14           4.10     483086.08   \n",
              "1       5448571      239226.90   5209344.10           0.41    3864234.75   \n",
              "2       2007778      335126.93   1672651.07           4.23     383896.37   \n",
              "3       1857830      247048.76   1610781.24           0.56    1190916.67   \n",
              "4       2604017      615040.85   1988976.15           2.39     768146.61   \n",
              "\n",
              "   2013 Expenses  2013 Profit  \n",
              "0       43394.44    439691.64  \n",
              "1       91714.44   3772520.31  \n",
              "2      112257.41    271638.96  \n",
              "3      625442.66    565474.01  \n",
              "4      222962.86    545183.75  "
            ],
            "text/html": [
              "\n",
              "  <div id=\"df-9e6c0ecc-28e9-43d2-b906-42a29972036f\">\n",
              "    <div class=\"colab-df-container\">\n",
              "      <div>\n",
              "<style scoped>\n",
              "    .dataframe tbody tr th:only-of-type {\n",
              "        vertical-align: middle;\n",
              "    }\n",
              "\n",
              "    .dataframe tbody tr th {\n",
              "        vertical-align: top;\n",
              "    }\n",
              "\n",
              "    .dataframe thead th {\n",
              "        text-align: right;\n",
              "    }\n",
              "</style>\n",
              "<table border=\"1\" class=\"dataframe\">\n",
              "  <thead>\n",
              "    <tr style=\"text-align: right;\">\n",
              "      <th></th>\n",
              "      <th>ID</th>\n",
              "      <th>Name</th>\n",
              "      <th>2015 Revenue</th>\n",
              "      <th>2015 Expenses</th>\n",
              "      <th>2015 Profit</th>\n",
              "      <th>2015 Growth %</th>\n",
              "      <th>2014 Revenue</th>\n",
              "      <th>2014 Expenses</th>\n",
              "      <th>2014 Profit</th>\n",
              "      <th>2014 Growth %</th>\n",
              "      <th>2013 Revenue</th>\n",
              "      <th>2013 Expenses</th>\n",
              "      <th>2013 Profit</th>\n",
              "    </tr>\n",
              "  </thead>\n",
              "  <tbody>\n",
              "    <tr>\n",
              "      <th>0</th>\n",
              "      <td>1</td>\n",
              "      <td>Over-Hex</td>\n",
              "      <td>10684526.90</td>\n",
              "      <td>1130700.06</td>\n",
              "      <td>9553826.84</td>\n",
              "      <td>3.34</td>\n",
              "      <td>2463739</td>\n",
              "      <td>194747.86</td>\n",
              "      <td>2268991.14</td>\n",
              "      <td>4.10</td>\n",
              "      <td>483086.08</td>\n",
              "      <td>43394.44</td>\n",
              "      <td>439691.64</td>\n",
              "    </tr>\n",
              "    <tr>\n",
              "      <th>1</th>\n",
              "      <td>2</td>\n",
              "      <td>Unimattax</td>\n",
              "      <td>9016542.89</td>\n",
              "      <td>804035.40</td>\n",
              "      <td>8212507.49</td>\n",
              "      <td>0.65</td>\n",
              "      <td>5448571</td>\n",
              "      <td>239226.90</td>\n",
              "      <td>5209344.10</td>\n",
              "      <td>0.41</td>\n",
              "      <td>3864234.75</td>\n",
              "      <td>91714.44</td>\n",
              "      <td>3772520.31</td>\n",
              "    </tr>\n",
              "    <tr>\n",
              "      <th>2</th>\n",
              "      <td>3</td>\n",
              "      <td>Lexila</td>\n",
              "      <td>12456641.64</td>\n",
              "      <td>2149297.00</td>\n",
              "      <td>10307344.65</td>\n",
              "      <td>5.20</td>\n",
              "      <td>2007778</td>\n",
              "      <td>335126.93</td>\n",
              "      <td>1672651.07</td>\n",
              "      <td>4.23</td>\n",
              "      <td>383896.37</td>\n",
              "      <td>112257.41</td>\n",
              "      <td>271638.96</td>\n",
              "    </tr>\n",
              "    <tr>\n",
              "      <th>3</th>\n",
              "      <td>4</td>\n",
              "      <td>Greenfax</td>\n",
              "      <td>7746272.07</td>\n",
              "      <td>1044375.49</td>\n",
              "      <td>6701896.58</td>\n",
              "      <td>3.17</td>\n",
              "      <td>1857830</td>\n",
              "      <td>247048.76</td>\n",
              "      <td>1610781.24</td>\n",
              "      <td>0.56</td>\n",
              "      <td>1190916.67</td>\n",
              "      <td>625442.66</td>\n",
              "      <td>565474.01</td>\n",
              "    </tr>\n",
              "    <tr>\n",
              "      <th>4</th>\n",
              "      <td>5</td>\n",
              "      <td>Saoace</td>\n",
              "      <td>10725585.46</td>\n",
              "      <td>2694644.42</td>\n",
              "      <td>8030941.04</td>\n",
              "      <td>3.12</td>\n",
              "      <td>2604017</td>\n",
              "      <td>615040.85</td>\n",
              "      <td>1988976.15</td>\n",
              "      <td>2.39</td>\n",
              "      <td>768146.61</td>\n",
              "      <td>222962.86</td>\n",
              "      <td>545183.75</td>\n",
              "    </tr>\n",
              "  </tbody>\n",
              "</table>\n",
              "</div>\n",
              "      <button class=\"colab-df-convert\" onclick=\"convertToInteractive('df-9e6c0ecc-28e9-43d2-b906-42a29972036f')\"\n",
              "              title=\"Convert this dataframe to an interactive table.\"\n",
              "              style=\"display:none;\">\n",
              "        \n",
              "  <svg xmlns=\"http://www.w3.org/2000/svg\" height=\"24px\"viewBox=\"0 0 24 24\"\n",
              "       width=\"24px\">\n",
              "    <path d=\"M0 0h24v24H0V0z\" fill=\"none\"/>\n",
              "    <path d=\"M18.56 5.44l.94 2.06.94-2.06 2.06-.94-2.06-.94-.94-2.06-.94 2.06-2.06.94zm-11 1L8.5 8.5l.94-2.06 2.06-.94-2.06-.94L8.5 2.5l-.94 2.06-2.06.94zm10 10l.94 2.06.94-2.06 2.06-.94-2.06-.94-.94-2.06-.94 2.06-2.06.94z\"/><path d=\"M17.41 7.96l-1.37-1.37c-.4-.4-.92-.59-1.43-.59-.52 0-1.04.2-1.43.59L10.3 9.45l-7.72 7.72c-.78.78-.78 2.05 0 2.83L4 21.41c.39.39.9.59 1.41.59.51 0 1.02-.2 1.41-.59l7.78-7.78 2.81-2.81c.8-.78.8-2.07 0-2.86zM5.41 20L4 18.59l7.72-7.72 1.47 1.35L5.41 20z\"/>\n",
              "  </svg>\n",
              "      </button>\n",
              "      \n",
              "  <style>\n",
              "    .colab-df-container {\n",
              "      display:flex;\n",
              "      flex-wrap:wrap;\n",
              "      gap: 12px;\n",
              "    }\n",
              "\n",
              "    .colab-df-convert {\n",
              "      background-color: #E8F0FE;\n",
              "      border: none;\n",
              "      border-radius: 50%;\n",
              "      cursor: pointer;\n",
              "      display: none;\n",
              "      fill: #1967D2;\n",
              "      height: 32px;\n",
              "      padding: 0 0 0 0;\n",
              "      width: 32px;\n",
              "    }\n",
              "\n",
              "    .colab-df-convert:hover {\n",
              "      background-color: #E2EBFA;\n",
              "      box-shadow: 0px 1px 2px rgba(60, 64, 67, 0.3), 0px 1px 3px 1px rgba(60, 64, 67, 0.15);\n",
              "      fill: #174EA6;\n",
              "    }\n",
              "\n",
              "    [theme=dark] .colab-df-convert {\n",
              "      background-color: #3B4455;\n",
              "      fill: #D2E3FC;\n",
              "    }\n",
              "\n",
              "    [theme=dark] .colab-df-convert:hover {\n",
              "      background-color: #434B5C;\n",
              "      box-shadow: 0px 1px 3px 1px rgba(0, 0, 0, 0.15);\n",
              "      filter: drop-shadow(0px 1px 2px rgba(0, 0, 0, 0.3));\n",
              "      fill: #FFFFFF;\n",
              "    }\n",
              "  </style>\n",
              "\n",
              "      <script>\n",
              "        const buttonEl =\n",
              "          document.querySelector('#df-9e6c0ecc-28e9-43d2-b906-42a29972036f button.colab-df-convert');\n",
              "        buttonEl.style.display =\n",
              "          google.colab.kernel.accessAllowed ? 'block' : 'none';\n",
              "\n",
              "        async function convertToInteractive(key) {\n",
              "          const element = document.querySelector('#df-9e6c0ecc-28e9-43d2-b906-42a29972036f');\n",
              "          const dataTable =\n",
              "            await google.colab.kernel.invokeFunction('convertToInteractive',\n",
              "                                                     [key], {});\n",
              "          if (!dataTable) return;\n",
              "\n",
              "          const docLinkHtml = 'Like what you see? Visit the ' +\n",
              "            '<a target=\"_blank\" href=https://colab.research.google.com/notebooks/data_table.ipynb>data table notebook</a>'\n",
              "            + ' to learn more about interactive tables.';\n",
              "          element.innerHTML = '';\n",
              "          dataTable['output_type'] = 'display_data';\n",
              "          await google.colab.output.renderOutput(dataTable, element);\n",
              "          const docLink = document.createElement('div');\n",
              "          docLink.innerHTML = docLinkHtml;\n",
              "          element.appendChild(docLink);\n",
              "        }\n",
              "      </script>\n",
              "    </div>\n",
              "  </div>\n",
              "  "
            ]
          },
          "metadata": {},
          "execution_count": 4
        }
      ],
      "source": [
        "financials_data = pd.read_excel(\"P11-1000-Startups.xlsx\", sheet_name = 'Financials')\n",
        "financials_data.head()"
      ]
    },
    {
      "cell_type": "code",
      "source": [
        "#let us check the number of rows and columns\n",
        "financials_data.shape"
      ],
      "metadata": {
        "colab": {
          "base_uri": "https://localhost:8080/"
        },
        "id": "oa7OxcsJBcIN",
        "outputId": "14ba6d6d-961e-4103-aedd-72b5ac5a2f47"
      },
      "execution_count": 5,
      "outputs": [
        {
          "output_type": "execute_result",
          "data": {
            "text/plain": [
              "(1000, 13)"
            ]
          },
          "metadata": {},
          "execution_count": 5
        }
      ]
    },
    {
      "cell_type": "markdown",
      "metadata": {
        "id": "Bpe0g43IAD8s"
      },
      "source": [
        "**3. Combining the two sheets(datasets)**"
      ]
    },
    {
      "cell_type": "code",
      "execution_count": 6,
      "metadata": {
        "colab": {
          "base_uri": "https://localhost:8080/",
          "height": 635
        },
        "id": "ffYq8Ka8_rRJ",
        "outputId": "622e5ff8-68ba-441f-f712-73a2c7b215e1"
      },
      "outputs": [
        {
          "output_type": "execute_result",
          "data": {
            "text/plain": [
              "   ID       Name     Industry  \\\n",
              "0   1   Over-Hex     Software   \n",
              "1   2  Unimattax  IT Services   \n",
              "2   3     Lexila  Real Estate   \n",
              "3   4   Greenfax       Retail   \n",
              "4   5     Saoace       Energy   \n",
              "\n",
              "                                         Description  Year Founded  Employees  \\\n",
              "0  Provides a Web-based CRM tool that allows hosp...          2006         25   \n",
              "1  Helps law firms use Thomson Reuters Elite prac...          2009         36   \n",
              "2  Offers investment, construction, residential, ...          2013         38   \n",
              "3  A Verizon Wireless premium retailer that offer...          2012        320   \n",
              "4  An energy efficiency consulting firm that work...          2009         24   \n",
              "\n",
              "  State            City    Metro Area  2015 Revenue  2015 Expenses  \\\n",
              "0    TN        Franklin     Nashville   10684526.90     1130700.06   \n",
              "1    PA  Newtown Square  Philadelphia    9016542.89      804035.40   \n",
              "2    IL     Tinley Park       Chicago   12456641.64     2149297.00   \n",
              "3    SC      Greenville  Newberry, SC    7746272.07     1044375.49   \n",
              "4    WI    New Holstein  Appleton, WI   10725585.46     2694644.42   \n",
              "\n",
              "   2015 Profit  2015 Growth %  2014 Revenue  2014 Expenses  2014 Profit  \\\n",
              "0   9553826.84           3.34       2463739      194747.86   2268991.14   \n",
              "1   8212507.49           0.65       5448571      239226.90   5209344.10   \n",
              "2  10307344.65           5.20       2007778      335126.93   1672651.07   \n",
              "3   6701896.58           3.17       1857830      247048.76   1610781.24   \n",
              "4   8030941.04           3.12       2604017      615040.85   1988976.15   \n",
              "\n",
              "   2014 Growth %  2013 Revenue  2013 Expenses  2013 Profit  \n",
              "0           4.10     483086.08       43394.44    439691.64  \n",
              "1           0.41    3864234.75       91714.44   3772520.31  \n",
              "2           4.23     383896.37      112257.41    271638.96  \n",
              "3           0.56    1190916.67      625442.66    565474.01  \n",
              "4           2.39     768146.61      222962.86    545183.75  "
            ],
            "text/html": [
              "\n",
              "  <div id=\"df-f6b2f962-ff3a-4551-8843-1381b96210a6\">\n",
              "    <div class=\"colab-df-container\">\n",
              "      <div>\n",
              "<style scoped>\n",
              "    .dataframe tbody tr th:only-of-type {\n",
              "        vertical-align: middle;\n",
              "    }\n",
              "\n",
              "    .dataframe tbody tr th {\n",
              "        vertical-align: top;\n",
              "    }\n",
              "\n",
              "    .dataframe thead th {\n",
              "        text-align: right;\n",
              "    }\n",
              "</style>\n",
              "<table border=\"1\" class=\"dataframe\">\n",
              "  <thead>\n",
              "    <tr style=\"text-align: right;\">\n",
              "      <th></th>\n",
              "      <th>ID</th>\n",
              "      <th>Name</th>\n",
              "      <th>Industry</th>\n",
              "      <th>Description</th>\n",
              "      <th>Year Founded</th>\n",
              "      <th>Employees</th>\n",
              "      <th>State</th>\n",
              "      <th>City</th>\n",
              "      <th>Metro Area</th>\n",
              "      <th>2015 Revenue</th>\n",
              "      <th>2015 Expenses</th>\n",
              "      <th>2015 Profit</th>\n",
              "      <th>2015 Growth %</th>\n",
              "      <th>2014 Revenue</th>\n",
              "      <th>2014 Expenses</th>\n",
              "      <th>2014 Profit</th>\n",
              "      <th>2014 Growth %</th>\n",
              "      <th>2013 Revenue</th>\n",
              "      <th>2013 Expenses</th>\n",
              "      <th>2013 Profit</th>\n",
              "    </tr>\n",
              "  </thead>\n",
              "  <tbody>\n",
              "    <tr>\n",
              "      <th>0</th>\n",
              "      <td>1</td>\n",
              "      <td>Over-Hex</td>\n",
              "      <td>Software</td>\n",
              "      <td>Provides a Web-based CRM tool that allows hosp...</td>\n",
              "      <td>2006</td>\n",
              "      <td>25</td>\n",
              "      <td>TN</td>\n",
              "      <td>Franklin</td>\n",
              "      <td>Nashville</td>\n",
              "      <td>10684526.90</td>\n",
              "      <td>1130700.06</td>\n",
              "      <td>9553826.84</td>\n",
              "      <td>3.34</td>\n",
              "      <td>2463739</td>\n",
              "      <td>194747.86</td>\n",
              "      <td>2268991.14</td>\n",
              "      <td>4.10</td>\n",
              "      <td>483086.08</td>\n",
              "      <td>43394.44</td>\n",
              "      <td>439691.64</td>\n",
              "    </tr>\n",
              "    <tr>\n",
              "      <th>1</th>\n",
              "      <td>2</td>\n",
              "      <td>Unimattax</td>\n",
              "      <td>IT Services</td>\n",
              "      <td>Helps law firms use Thomson Reuters Elite prac...</td>\n",
              "      <td>2009</td>\n",
              "      <td>36</td>\n",
              "      <td>PA</td>\n",
              "      <td>Newtown Square</td>\n",
              "      <td>Philadelphia</td>\n",
              "      <td>9016542.89</td>\n",
              "      <td>804035.40</td>\n",
              "      <td>8212507.49</td>\n",
              "      <td>0.65</td>\n",
              "      <td>5448571</td>\n",
              "      <td>239226.90</td>\n",
              "      <td>5209344.10</td>\n",
              "      <td>0.41</td>\n",
              "      <td>3864234.75</td>\n",
              "      <td>91714.44</td>\n",
              "      <td>3772520.31</td>\n",
              "    </tr>\n",
              "    <tr>\n",
              "      <th>2</th>\n",
              "      <td>3</td>\n",
              "      <td>Lexila</td>\n",
              "      <td>Real Estate</td>\n",
              "      <td>Offers investment, construction, residential, ...</td>\n",
              "      <td>2013</td>\n",
              "      <td>38</td>\n",
              "      <td>IL</td>\n",
              "      <td>Tinley Park</td>\n",
              "      <td>Chicago</td>\n",
              "      <td>12456641.64</td>\n",
              "      <td>2149297.00</td>\n",
              "      <td>10307344.65</td>\n",
              "      <td>5.20</td>\n",
              "      <td>2007778</td>\n",
              "      <td>335126.93</td>\n",
              "      <td>1672651.07</td>\n",
              "      <td>4.23</td>\n",
              "      <td>383896.37</td>\n",
              "      <td>112257.41</td>\n",
              "      <td>271638.96</td>\n",
              "    </tr>\n",
              "    <tr>\n",
              "      <th>3</th>\n",
              "      <td>4</td>\n",
              "      <td>Greenfax</td>\n",
              "      <td>Retail</td>\n",
              "      <td>A Verizon Wireless premium retailer that offer...</td>\n",
              "      <td>2012</td>\n",
              "      <td>320</td>\n",
              "      <td>SC</td>\n",
              "      <td>Greenville</td>\n",
              "      <td>Newberry, SC</td>\n",
              "      <td>7746272.07</td>\n",
              "      <td>1044375.49</td>\n",
              "      <td>6701896.58</td>\n",
              "      <td>3.17</td>\n",
              "      <td>1857830</td>\n",
              "      <td>247048.76</td>\n",
              "      <td>1610781.24</td>\n",
              "      <td>0.56</td>\n",
              "      <td>1190916.67</td>\n",
              "      <td>625442.66</td>\n",
              "      <td>565474.01</td>\n",
              "    </tr>\n",
              "    <tr>\n",
              "      <th>4</th>\n",
              "      <td>5</td>\n",
              "      <td>Saoace</td>\n",
              "      <td>Energy</td>\n",
              "      <td>An energy efficiency consulting firm that work...</td>\n",
              "      <td>2009</td>\n",
              "      <td>24</td>\n",
              "      <td>WI</td>\n",
              "      <td>New Holstein</td>\n",
              "      <td>Appleton, WI</td>\n",
              "      <td>10725585.46</td>\n",
              "      <td>2694644.42</td>\n",
              "      <td>8030941.04</td>\n",
              "      <td>3.12</td>\n",
              "      <td>2604017</td>\n",
              "      <td>615040.85</td>\n",
              "      <td>1988976.15</td>\n",
              "      <td>2.39</td>\n",
              "      <td>768146.61</td>\n",
              "      <td>222962.86</td>\n",
              "      <td>545183.75</td>\n",
              "    </tr>\n",
              "  </tbody>\n",
              "</table>\n",
              "</div>\n",
              "      <button class=\"colab-df-convert\" onclick=\"convertToInteractive('df-f6b2f962-ff3a-4551-8843-1381b96210a6')\"\n",
              "              title=\"Convert this dataframe to an interactive table.\"\n",
              "              style=\"display:none;\">\n",
              "        \n",
              "  <svg xmlns=\"http://www.w3.org/2000/svg\" height=\"24px\"viewBox=\"0 0 24 24\"\n",
              "       width=\"24px\">\n",
              "    <path d=\"M0 0h24v24H0V0z\" fill=\"none\"/>\n",
              "    <path d=\"M18.56 5.44l.94 2.06.94-2.06 2.06-.94-2.06-.94-.94-2.06-.94 2.06-2.06.94zm-11 1L8.5 8.5l.94-2.06 2.06-.94-2.06-.94L8.5 2.5l-.94 2.06-2.06.94zm10 10l.94 2.06.94-2.06 2.06-.94-2.06-.94-.94-2.06-.94 2.06-2.06.94z\"/><path d=\"M17.41 7.96l-1.37-1.37c-.4-.4-.92-.59-1.43-.59-.52 0-1.04.2-1.43.59L10.3 9.45l-7.72 7.72c-.78.78-.78 2.05 0 2.83L4 21.41c.39.39.9.59 1.41.59.51 0 1.02-.2 1.41-.59l7.78-7.78 2.81-2.81c.8-.78.8-2.07 0-2.86zM5.41 20L4 18.59l7.72-7.72 1.47 1.35L5.41 20z\"/>\n",
              "  </svg>\n",
              "      </button>\n",
              "      \n",
              "  <style>\n",
              "    .colab-df-container {\n",
              "      display:flex;\n",
              "      flex-wrap:wrap;\n",
              "      gap: 12px;\n",
              "    }\n",
              "\n",
              "    .colab-df-convert {\n",
              "      background-color: #E8F0FE;\n",
              "      border: none;\n",
              "      border-radius: 50%;\n",
              "      cursor: pointer;\n",
              "      display: none;\n",
              "      fill: #1967D2;\n",
              "      height: 32px;\n",
              "      padding: 0 0 0 0;\n",
              "      width: 32px;\n",
              "    }\n",
              "\n",
              "    .colab-df-convert:hover {\n",
              "      background-color: #E2EBFA;\n",
              "      box-shadow: 0px 1px 2px rgba(60, 64, 67, 0.3), 0px 1px 3px 1px rgba(60, 64, 67, 0.15);\n",
              "      fill: #174EA6;\n",
              "    }\n",
              "\n",
              "    [theme=dark] .colab-df-convert {\n",
              "      background-color: #3B4455;\n",
              "      fill: #D2E3FC;\n",
              "    }\n",
              "\n",
              "    [theme=dark] .colab-df-convert:hover {\n",
              "      background-color: #434B5C;\n",
              "      box-shadow: 0px 1px 3px 1px rgba(0, 0, 0, 0.15);\n",
              "      filter: drop-shadow(0px 1px 2px rgba(0, 0, 0, 0.3));\n",
              "      fill: #FFFFFF;\n",
              "    }\n",
              "  </style>\n",
              "\n",
              "      <script>\n",
              "        const buttonEl =\n",
              "          document.querySelector('#df-f6b2f962-ff3a-4551-8843-1381b96210a6 button.colab-df-convert');\n",
              "        buttonEl.style.display =\n",
              "          google.colab.kernel.accessAllowed ? 'block' : 'none';\n",
              "\n",
              "        async function convertToInteractive(key) {\n",
              "          const element = document.querySelector('#df-f6b2f962-ff3a-4551-8843-1381b96210a6');\n",
              "          const dataTable =\n",
              "            await google.colab.kernel.invokeFunction('convertToInteractive',\n",
              "                                                     [key], {});\n",
              "          if (!dataTable) return;\n",
              "\n",
              "          const docLinkHtml = 'Like what you see? Visit the ' +\n",
              "            '<a target=\"_blank\" href=https://colab.research.google.com/notebooks/data_table.ipynb>data table notebook</a>'\n",
              "            + ' to learn more about interactive tables.';\n",
              "          element.innerHTML = '';\n",
              "          dataTable['output_type'] = 'display_data';\n",
              "          await google.colab.output.renderOutput(dataTable, element);\n",
              "          const docLink = document.createElement('div');\n",
              "          docLink.innerHTML = docLinkHtml;\n",
              "          element.appendChild(docLink);\n",
              "        }\n",
              "      </script>\n",
              "    </div>\n",
              "  </div>\n",
              "  "
            ]
          },
          "metadata": {},
          "execution_count": 6
        }
      ],
      "source": [
        "data = pd.merge(overview_data, financials_data, on=['ID', 'Name'])\n",
        "data.head()"
      ]
    },
    {
      "cell_type": "code",
      "execution_count": 7,
      "metadata": {
        "id": "Uox8nBvkAuYR",
        "colab": {
          "base_uri": "https://localhost:8080/"
        },
        "outputId": "683507d4-3fca-4bf0-ca0b-6bc6699ca5c3"
      },
      "outputs": [
        {
          "output_type": "execute_result",
          "data": {
            "text/plain": [
              "(1000, 20)"
            ]
          },
          "metadata": {},
          "execution_count": 7
        }
      ],
      "source": [
        "#let us check the number of rows and columns\n",
        "data.shape\n",
        "\n",
        "#overview_data has 9 columns and financials_data has 13 columns. \n",
        "#as name and ID is common columns between the two, 20 columns for merged dataset looks correct."
      ]
    },
    {
      "cell_type": "markdown",
      "source": [
        "**4. Analyzing the dataset**"
      ],
      "metadata": {
        "id": "w-7nXbZxIhgL"
      }
    },
    {
      "cell_type": "markdown",
      "source": [
        "4.1 Number of columns having one or more null"
      ],
      "metadata": {
        "id": "fq34M_YjMp66"
      }
    },
    {
      "cell_type": "code",
      "source": [
        "data.isnull().any().sum()"
      ],
      "metadata": {
        "colab": {
          "base_uri": "https://localhost:8080/"
        },
        "id": "PoapU_AXBlRq",
        "outputId": "1c0efd12-770f-46c7-c9c5-0490414dc3ab"
      },
      "execution_count": 8,
      "outputs": [
        {
          "output_type": "execute_result",
          "data": {
            "text/plain": [
              "6"
            ]
          },
          "metadata": {},
          "execution_count": 8
        }
      ]
    },
    {
      "cell_type": "markdown",
      "source": [
        "4.2 Number of startups founded in each year"
      ],
      "metadata": {
        "id": "Z5aMspZpMzJM"
      }
    },
    {
      "cell_type": "code",
      "source": [
        "# Group the data by the \"Year\" column and count the number of startups in each year\n",
        "startup_count = data.groupby('Year Founded').size()\n",
        "\n",
        "# Plot the bar char\n",
        "fig, ax = plt.subplots(figsize=(10, 6))\n",
        "startup_count.plot(kind='bar', ax=ax)\n",
        "plt.xlabel('Year')\n",
        "plt.ylabel('Number of Startups')\n",
        "plt.title('Number of Startups Each Year')\n",
        "\n",
        "# Add values above each bar\n",
        "for p in ax.patches:\n",
        "    ax.annotate(str(p.get_height()), (p.get_x() + p.get_width() / 2., p.get_height()), ha='center', va='center', xytext=(0, 5), textcoords='offset points')\n",
        "\n",
        "plt.show()"
      ],
      "metadata": {
        "colab": {
          "base_uri": "https://localhost:8080/",
          "height": 586
        },
        "id": "hmwnbHUeMHu2",
        "outputId": "0146c18c-90ce-4fed-fc4a-7a3f989679e0"
      },
      "execution_count": 9,
      "outputs": [
        {
          "output_type": "display_data",
          "data": {
            "text/plain": [
              "<Figure size 1000x600 with 1 Axes>"
            ],
            "image/png": "[encoded data removed]"
          },
          "metadata": {}
        }
      ]
    },
    {
      "cell_type": "code",
      "source": [
        "\n",
        "# Group the data by the \"Year Founded\" column and count the number of startups in each year\n",
        "startup_count = data.groupby('Year Founded').size()\n",
        "\n",
        "# Create a modified startup count series\n",
        "modified_startup_count = startup_count.copy()\n",
        "\n",
        "# Combine years before 2009 into a single bar\n",
        "years_before_2009 = startup_count.loc[startup_count.index <= 2009]\n",
        "combined_count = years_before_2009.sum()\n",
        "modified_startup_count = modified_startup_count.drop(years_before_2009.index)\n",
        "modified_startup_count.loc['2009 and before'] = combined_count\n",
        "\n",
        "# Reorder the index to make \"2009 and before\" the first element\n",
        "modified_startup_count = modified_startup_count.reindex(['2009 and before'] + list(modified_startup_count.index[:-1]))\n",
        "\n",
        "# Plot the bar chart\n",
        "fig, ax = plt.subplots(figsize=(10, 6))\n",
        "modified_startup_count.plot(kind='bar', ax=ax)\n",
        "plt.xlabel('Year')\n",
        "plt.ylabel('Number of Startups')\n",
        "plt.title('Number of Startups Each Year')\n",
        "\n",
        "# Add values above each bar\n",
        "for p in ax.patches:\n",
        "    ax.annotate(str(p.get_height()), (p.get_x() + p.get_width() / 2., p.get_height()), ha='center', va='center', xytext=(0, 5), textcoords='offset points')\n",
        "\n",
        "plt.show()\n"
      ],
      "metadata": {
        "colab": {
          "base_uri": "https://localhost:8080/",
          "height": 665
        },
        "id": "Ikc3ocKJTu5z",
        "outputId": "cb1ebe7e-65f1-4dc3-9ef7-906ca448a196"
      },
      "execution_count": 10,
      "outputs": [
        {
          "output_type": "display_data",
          "data": {
            "text/plain": [
              "<Figure size 1000x600 with 1 Axes>"
            ],
            "image/png": "[encoded data removed]"
          },
          "metadata": {}
        }
      ]
    },
    {
      "cell_type": "markdown",
      "source": [
        "4.2 Number of employees in each industry"
      ],
      "metadata": {
        "id": "Mr8W8Bm-6BJA"
      }
    },
    {
      "cell_type": "code",
      "source": [
        "# Group the data by the \"Year Founded\" column and count the number of startups in each year\n",
        "average_employees = round(data.groupby('Industry')['Employees'].mean(),0)\n",
        "average_employees = average_employees.astype(int)\n",
        "#print(employees_count)\n",
        "\n",
        "# Plot the bar char\n",
        "fig, ax = plt.subplots(figsize=(10, 6))\n",
        "average_employees.plot(kind='bar', ax=ax)\n",
        "plt.xlabel('Industry')\n",
        "plt.ylabel('Avg. Number of Employees')\n",
        "plt.title('Avg. Number of Employees Each Industry')\n",
        "\n",
        "# Add values above each bar\n",
        "for p in ax.patches:\n",
        "    ax.annotate(str(p.get_height()), (p.get_x() + p.get_width() / 2., p.get_height()), ha='center', va='center', xytext=(0, 5), textcoords='offset points')\n",
        "\n",
        "plt.show()\n"
      ],
      "metadata": {
        "colab": {
          "base_uri": "https://localhost:8080/",
          "height": 763
        },
        "id": "JeDQhnSU6EF_",
        "outputId": "1bed9669-7602-49b3-d8b8-61c449e43828"
      },
      "execution_count": 26,
      "outputs": [
        {
          "output_type": "display_data",
          "data": {
            "text/plain": [
              "<Figure size 1000x600 with 1 Axes>"
            ],
            "image/png": "[encoded data removed]"
          },
          "metadata": {}
        }
      ]
    }
  ],
  "metadata": {
    "colab": {
      "provenance": [],
      "authorship_tag": "ABX9TyNdp0tCuRHX8Gbv+jI4UWh8",
      "include_colab_link": true
    },
    "kernelspec": {
      "display_name": "Python 3",
      "name": "python3"
    },
    "language_info": {
      "name": "python"
    }
  },
  "nbformat": 4,
  "nbformat_minor": 0
}